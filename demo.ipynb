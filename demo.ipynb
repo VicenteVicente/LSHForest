{
 "cells": [
  {
   "cell_type": "code",
   "execution_count": 1,
   "metadata": {},
   "outputs": [],
   "source": [
    "from lsh_forest import LSHForest\n",
    "import numpy as np\n",
    "from time import perf_counter_ns\n"
   ]
  },
  {
   "cell_type": "markdown",
   "metadata": {},
   "source": [
    "First, we index the data with LSH Forest"
   ]
  },
  {
   "cell_type": "code",
   "execution_count": 2,
   "metadata": {},
   "outputs": [
    {
     "name": "stdout",
     "output_type": "stream",
     "text": [
      "Indexing 1000000 vectors of dim 4 with hash size of 8 bits across 4 hash tables...\n"
     ]
    },
    {
     "name": "stderr",
     "output_type": "stream",
     "text": [
      "Indexing table 1/4: 100%|██████████| 1000000/1000000 [00:02<00:00, 452757.62it/s]\n",
      "Indexing table 2/4: 100%|██████████| 1000000/1000000 [00:02<00:00, 431617.60it/s]\n",
      "Indexing table 3/4: 100%|██████████| 1000000/1000000 [00:02<00:00, 451288.09it/s]\n",
      "Indexing table 4/4: 100%|██████████| 1000000/1000000 [00:02<00:00, 431440.41it/s]"
     ]
    },
    {
     "name": "stdout",
     "output_type": "stream",
     "text": [
      "Done in 9.069737947 seconds\n"
     ]
    },
    {
     "name": "stderr",
     "output_type": "stream",
     "text": [
      "\n"
     ]
    }
   ],
   "source": [
    "num_vec = 1_000_000\n",
    "dim = 4\n",
    "nbits = 8\n",
    "num_hash_tables = 4\n",
    "data = np.random.rand(num_vec, dim)\n",
    "\n",
    "lsh_forest = LSHForest(nbits=nbits, dim=dim, num_hash_tables=num_hash_tables, distance_metric=\"cosine\", data_ref=data)\n",
    "\n",
    "print(f\"Indexing {num_vec} vectors of dim {dim} with hash size of {nbits} bits across {num_hash_tables} hash tables...\")\n",
    "t0 = perf_counter_ns()\n",
    "lsh_forest.index_data()\n",
    "tf = perf_counter_ns()\n",
    "print(f\"Done in {(tf - t0) / 1e9} seconds\")\n"
   ]
  },
  {
   "cell_type": "markdown",
   "metadata": {},
   "source": [
    "Then we create an iterator that yields values sorted by the distance to the input vector"
   ]
  },
  {
   "cell_type": "code",
   "execution_count": 4,
   "metadata": {},
   "outputs": [
    {
     "name": "stdout",
     "output_type": "stream",
     "text": [
      "Took 2.717113106 seconds to iterate over all 1000000 indexed vectors\n"
     ]
    }
   ],
   "source": [
    "query_iter = lsh_forest.query_iter(data[0])\n",
    "t0 = perf_counter_ns()\n",
    "for idx, (vec_id, dist) in enumerate(query_iter):\n",
    "    v = data[vec_id]\n",
    "tf = perf_counter_ns()\n",
    "print(f\"Took {(tf - t0) / 1e9} seconds to iterate over all {num_vec} indexed vectors\")"
   ]
  },
  {
   "cell_type": "code",
   "execution_count": 5,
   "metadata": {},
   "outputs": [
    {
     "name": "stdout",
     "output_type": "stream",
     "text": [
      "Took 0.080383585 seconds to iterate over all 1000000 vectors directly\n"
     ]
    }
   ],
   "source": [
    "t0 = perf_counter_ns()\n",
    "for vec_id in range(num_vec):\n",
    "    v = data[vec_id]\n",
    "tf = perf_counter_ns()\n",
    "print(f\"Took {(tf - t0) / 1e9} seconds to iterate over all {num_vec} vectors directly\")"
   ]
  }
 ],
 "metadata": {
  "kernelspec": {
   "display_name": "Python 3",
   "language": "python",
   "name": "python3"
  },
  "language_info": {
   "codemirror_mode": {
    "name": "ipython",
    "version": 3
   },
   "file_extension": ".py",
   "mimetype": "text/x-python",
   "name": "python",
   "nbconvert_exporter": "python",
   "pygments_lexer": "ipython3",
   "version": "3.10.6"
  },
  "orig_nbformat": 4
 },
 "nbformat": 4,
 "nbformat_minor": 2
}
